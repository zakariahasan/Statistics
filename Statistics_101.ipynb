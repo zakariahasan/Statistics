{
 "cells": [
  {
   "cell_type": "code",
   "execution_count": 12,
   "metadata": {
    "ExecuteTime": {
     "end_time": "2020-11-19T15:38:56.975937Z",
     "start_time": "2020-11-19T15:38:56.969053Z"
    }
   },
   "outputs": [],
   "source": [
    "import numpy as np\n",
    "from scipy import stats"
   ]
  },
  {
   "cell_type": "markdown",
   "metadata": {
    "ExecuteTime": {
     "end_time": "2020-11-19T06:54:05.122493Z",
     "start_time": "2020-11-19T06:54:05.115125Z"
    }
   },
   "source": [
    "# Arithmetic mean"
   ]
  },
  {
   "cell_type": "markdown",
   "metadata": {},
   "source": [
    "The arithmetic mean means the calculated centre of the material. This is the average value. \n",
    "\n",
    "The arithmetic mean is calculated by adding up all the values and this sum is then divided with the amount of the values: "
   ]
  },
  {
   "cell_type": "markdown",
   "metadata": {
    "ExecuteTime": {
     "end_time": "2020-11-19T06:55:27.675159Z",
     "start_time": "2020-11-19T06:55:27.669262Z"
    }
   },
   "source": [
    "\\begin{equation}\n",
    "\\overline{x}=\\frac{\\sum_{i=1}^nx_i}{n}=\\frac{\\sum_{i=1}^kf_ix_i}{\\sum_{i=1}^kf_i}\n",
    "\\end{equation}\n",
    "\n",
    "\n",
    "\n"
   ]
  },
  {
   "cell_type": "code",
   "execution_count": 13,
   "metadata": {
    "ExecuteTime": {
     "end_time": "2020-11-19T15:38:58.982212Z",
     "start_time": "2020-11-19T15:38:58.967225Z"
    }
   },
   "outputs": [
    {
     "name": "stdout",
     "output_type": "stream",
     "text": [
      "mean value = 5.5\n",
      "mean value = 4.909090909090909\n"
     ]
    }
   ],
   "source": [
    "# 1st approch \n",
    "avg_1 = [-5, 4, 5, 6, 6, 7, 7, 7, 8, 10]\n",
    "avg_2 = [2, 6, 3, 8, 9, 1, 2, 5, 6, 8, 4]\n",
    "print(f'mean value = {sum(avg_1)/len(avg_1)}')\n",
    "print(f'mean value = {sum(avg_2)/len(avg_2)}')"
   ]
  },
  {
   "cell_type": "code",
   "execution_count": 19,
   "metadata": {
    "ExecuteTime": {
     "end_time": "2020-11-19T15:39:32.892688Z",
     "start_time": "2020-11-19T15:39:32.886544Z"
    }
   },
   "outputs": [
    {
     "name": "stdout",
     "output_type": "stream",
     "text": [
      "5.5\n"
     ]
    }
   ],
   "source": [
    "# 2nd approch \n",
    "print(np.mean(avg_1))"
   ]
  },
  {
   "cell_type": "markdown",
   "metadata": {},
   "source": [
    "# Weighted arithmetic mean"
   ]
  },
  {
   "cell_type": "markdown",
   "metadata": {},
   "source": [
    "Sometimes all values in the material aren't as meaningful or significant as others. Now the arithmetic mean can give false image from the phenomenon because in the **arithmetic mean every value has equal significance.** In a weighted arithmetic mean each value has its own coefficient describing the significance of the value: the greater the coefficient, the more significant the value is. The **weighted arithmetic mean is calculated by multiplying every value by its coefficient and adding these products together. This sum is then divided with the sum of the coefficients.**"
   ]
  },
  {
   "cell_type": "markdown",
   "metadata": {},
   "source": [
    "   \n",
    "\\begin{equation}\\\n",
    "Weighted Mean =\\ \\frac{\\Sigma wx}{\\Sigma w}\n",
    "\\end{equation}\n",
    "\n"
   ]
  },
  {
   "cell_type": "markdown",
   "metadata": {
    "ExecuteTime": {
     "end_time": "2020-11-19T07:29:40.083757Z",
     "start_time": "2020-11-19T07:29:40.080529Z"
    }
   },
   "source": [
    "# Median"
   ]
  },
  {
   "cell_type": "markdown",
   "metadata": {},
   "source": [
    "Median is the **centre calculated by amount of the values.** Median in considered to be the centre according to amount where the arithmetic mean is the centre according to magnitude. If the distribution is symmetrical according to the centre the median and mean are equal. From a discrete material we calculate the median by finding the value in the middle of the material when the material has been **organized by the order of magnitude.**\n",
    "\n",
    "- If there are odd amount of the values, we take the one in the middle.\n",
    "- If there are even amount of the values, we take the mean of the two middle ones."
   ]
  },
  {
   "cell_type": "code",
   "execution_count": 15,
   "metadata": {
    "ExecuteTime": {
     "end_time": "2020-11-19T15:39:02.242309Z",
     "start_time": "2020-11-19T15:39:02.225329Z"
    }
   },
   "outputs": [
    {
     "name": "stdout",
     "output_type": "stream",
     "text": [
      "5.0\n"
     ]
    }
   ],
   "source": [
    "med_1 = [2, 6, 3, 8, 9, 1, 2, 5, 6, 8, 4]\n",
    "print(np.median(med_1))"
   ]
  },
  {
   "cell_type": "markdown",
   "metadata": {},
   "source": [
    "# Mode"
   ]
  },
  {
   "cell_type": "markdown",
   "metadata": {},
   "source": [
    "The mode is **the most typical value of the material.** It is the class or the value with the greatest frequency. The mode isn't neccesarely unambiguous statistic because multiple values can have the same frequency."
   ]
  },
  {
   "cell_type": "code",
   "execution_count": 16,
   "metadata": {
    "ExecuteTime": {
     "end_time": "2020-11-19T15:39:03.908391Z",
     "start_time": "2020-11-19T15:39:03.902372Z"
    }
   },
   "outputs": [],
   "source": [
    "mod_1 = [2, 6, 3, 8, 9, 1, 2, 5, 6, 8, 4]"
   ]
  },
  {
   "cell_type": "code",
   "execution_count": 17,
   "metadata": {
    "ExecuteTime": {
     "end_time": "2020-11-19T15:39:04.279382Z",
     "start_time": "2020-11-19T15:39:04.259366Z"
    }
   },
   "outputs": [
    {
     "name": "stdout",
     "output_type": "stream",
     "text": [
      "ModeResult(mode=array([2]), count=array([2]))\n"
     ]
    }
   ],
   "source": [
    "print(stats.mode(mod_1))"
   ]
  },
  {
   "cell_type": "markdown",
   "metadata": {},
   "source": [
    "# Standard deviation"
   ]
  },
  {
   "cell_type": "markdown",
   "metadata": {},
   "source": [
    "In statistics the standard deviation is a **measure of variation.** It describes the **average variation from the arithmetic mean for the values.** There are two formulas for the standard deviation and this is because wether you are calculating the whole population's deviation or sampling deviation. If the material is claadified it will has to use the class centre for calculations."
   ]
  },
  {
   "cell_type": "markdown",
   "metadata": {},
   "source": [
    " \n",
    "\\begin{equation}\\\n",
    "standard\\ deviation\\ of\\ the\\ population:\\sigma=\\sqrt{\\frac{\\sum_{i=1}^n\\left(x_i-\\overline{x}\\right)}{n}}=\\sqrt{\\frac{\\sum_{i=1}^kf_i\\left(x_i-\\overline{x}\\right)}{n}}\n",
    "\\end{equation}\n",
    "\n",
    " \n",
    "\\begin{equation}\\\n",
    "sample\\ standard\\ deviation: \\ s=\\sqrt{\\frac{\\sum_{i=1}^n\\left(x_i-\\overline{x}\\right)}{n-1}}=\\sqrt{\\frac{\\sum_{i=1}^kf_i\\left(x_i-\\overline{x}\\right)}{n-1}}\n",
    "\\end{equation}\n"
   ]
  },
  {
   "cell_type": "code",
   "execution_count": 18,
   "metadata": {
    "ExecuteTime": {
     "end_time": "2020-11-19T15:39:06.153788Z",
     "start_time": "2020-11-19T15:39:06.145215Z"
    },
    "scrolled": true
   },
   "outputs": [
    {
     "name": "stdout",
     "output_type": "stream",
     "text": [
      "2.6095818353467863\n"
     ]
    }
   ],
   "source": [
    "std_1 = [2, 6, 3, 8, 9, 1, 2, 5, 6, 8, 4]\n",
    "print(np.std(std_1))"
   ]
  },
  {
   "cell_type": "markdown",
   "metadata": {},
   "source": [
    "# Variance"
   ]
  },
  {
   "cell_type": "markdown",
   "metadata": {},
   "source": [
    "Variance is standard deviation squared. It tries to tell the same story as the standard deviation but its unit is different than of the unit of mean or stardard deviation. Variance is calculated as the deviation but without the square root."
   ]
  },
  {
   "cell_type": "markdown",
   "metadata": {
    "ExecuteTime": {
     "end_time": "2020-11-19T15:26:49.213915Z",
     "start_time": "2020-11-19T15:26:49.170261Z"
    }
   },
   "source": [
    "\n",
    "\\begin{equation}\\label{eq:1}\n",
    "Population\\ Variance \\ \\sigma^2 = \\frac{\\displaystyle\\sum_{i=1}^{n}(x_i - \\mu)^2} {n}\n",
    "\\end{equation}\n",
    "\n",
    "\n",
    "\\begin{equation}\\label{eq:2}\n",
    "Sample\\ Variance \\ \\sigma^2 = \\frac{\\displaystyle\\sum_{i=1}^{n}(x_i - \\mu)^2} {n-1}\n",
    "\\end{equation}\n"
   ]
  }
 ],
 "metadata": {
  "hide_input": false,
  "kernelspec": {
   "display_name": "Python 3",
   "language": "python",
   "name": "python3"
  },
  "language_info": {
   "codemirror_mode": {
    "name": "ipython",
    "version": 3
   },
   "file_extension": ".py",
   "mimetype": "text/x-python",
   "name": "python",
   "nbconvert_exporter": "python",
   "pygments_lexer": "ipython3",
   "version": "3.7.4"
  },
  "latex_envs": {
   "LaTeX_envs_menu_present": true,
   "autoclose": false,
   "autocomplete": true,
   "bibliofile": "biblio.bib",
   "cite_by": "apalike",
   "current_citInitial": 1,
   "eqLabelWithNumbers": true,
   "eqNumInitial": 1,
   "hotkeys": {
    "equation": "Ctrl-E",
    "itemize": "Ctrl-I"
   },
   "labels_anchors": false,
   "latex_user_defs": false,
   "report_style_numbering": false,
   "user_envs_cfg": false
  },
  "toc": {
   "base_numbering": 1,
   "nav_menu": {},
   "number_sections": true,
   "sideBar": true,
   "skip_h1_title": false,
   "title_cell": "Table of Contents",
   "title_sidebar": "Contents",
   "toc_cell": false,
   "toc_position": {},
   "toc_section_display": true,
   "toc_window_display": false
  }
 },
 "nbformat": 4,
 "nbformat_minor": 4
}
